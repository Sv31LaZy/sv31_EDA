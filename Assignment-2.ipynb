{
 "cells": [
  {
   "cell_type": "code",
   "execution_count": 1,
   "id": "05e6436e",
   "metadata": {},
   "outputs": [
    {
     "name": "stdout",
     "output_type": "stream",
     "text": [
      "   Column1  Column2  Column3\n",
      "0      1.0        A      1.1\n",
      "1      2.0        B      2.2\n",
      "2      0.0  Missing      3.3\n",
      "3      4.0        D      4.4\n",
      "4      5.0        E      5.5\n"
     ]
    }
   ],
   "source": [
    "# 1) Create a data frame with null values and fill the null values by python ?\n",
    "\n",
    "import pandas as pd\n",
    "import numpy as np\n",
    "\n",
    "df = pd.DataFrame({'Column1': [1, 2, np.nan, 4, 5],\n",
    "                   'Column2': ['A', 'B', None, 'D', 'E'],\n",
    "                   'Column3': [1.1, 2.2, np.nan, 4.4, 5.5]})\n",
    "\n",
    "df_filled = df.fillna(value={\"Column1\": 0, \"Column2\": \"Missing\", \"Column3\": 3.3})\n",
    "\n",
    "print(df_filled)"
   ]
  },
  {
   "cell_type": "code",
   "execution_count": 19,
   "id": "e1299e09",
   "metadata": {},
   "outputs": [],
   "source": [
    "# 2) Explain the types of sampling in statistics-theory ?\n",
    "\n",
    "1. Simple random sampling:\n",
    "\n",
    "In a simple random sample, every member of the population has an equal chance of being selected. Your sampling frame should \n",
    "include the whole population.\n",
    "\n",
    "2. Systematic sampling:\n",
    "    \n",
    "Systematic sampling is similar to simple random sampling, but it is usually slightly easier to conduct. Every member of the \n",
    "population is listed with a number, but instead of randomly generating numbers, individuals are chosen at regular intervals.\n",
    "\n",
    "3. Stratified sampling:\n",
    "    \n",
    "Stratified sampling involves dividing the population into subpopulations that may differ in important ways. It allows you draw \n",
    "more precise conclusions by ensuring that every subgroup is properly represented in the sample.\n",
    "\n",
    "4. Cluster sampling:\n",
    "    \n",
    "Cluster sampling also involves dividing the population into subgroups, but each subgroup should have similar characteristics to \n",
    "the whole sample. Instead of sampling individuals from each subgroup, you randomly select entire subgroups."
   ]
  },
  {
   "cell_type": "code",
   "execution_count": 15,
   "id": "4e8a6d26",
   "metadata": {},
   "outputs": [
    {
     "data": {
      "text/html": [
       "<div>\n",
       "<style scoped>\n",
       "    .dataframe tbody tr th:only-of-type {\n",
       "        vertical-align: middle;\n",
       "    }\n",
       "\n",
       "    .dataframe tbody tr th {\n",
       "        vertical-align: top;\n",
       "    }\n",
       "\n",
       "    .dataframe thead th {\n",
       "        text-align: right;\n",
       "    }\n",
       "</style>\n",
       "<table border=\"1\" class=\"dataframe\">\n",
       "  <thead>\n",
       "    <tr style=\"text-align: right;\">\n",
       "      <th></th>\n",
       "      <th>values</th>\n",
       "    </tr>\n",
       "  </thead>\n",
       "  <tbody>\n",
       "    <tr>\n",
       "      <th>0</th>\n",
       "      <td>114.605146</td>\n",
       "    </tr>\n",
       "    <tr>\n",
       "      <th>1</th>\n",
       "      <td>113.345732</td>\n",
       "    </tr>\n",
       "    <tr>\n",
       "      <th>2</th>\n",
       "      <td>101.318102</td>\n",
       "    </tr>\n",
       "    <tr>\n",
       "      <th>3</th>\n",
       "      <td>118.151856</td>\n",
       "    </tr>\n",
       "    <tr>\n",
       "      <th>4</th>\n",
       "      <td>109.785625</td>\n",
       "    </tr>\n",
       "    <tr>\n",
       "      <th>...</th>\n",
       "      <td>...</td>\n",
       "    </tr>\n",
       "    <tr>\n",
       "      <th>97</th>\n",
       "      <td>94.620264</td>\n",
       "    </tr>\n",
       "    <tr>\n",
       "      <th>98</th>\n",
       "      <td>78.414647</td>\n",
       "    </tr>\n",
       "    <tr>\n",
       "      <th>99</th>\n",
       "      <td>99.096314</td>\n",
       "    </tr>\n",
       "    <tr>\n",
       "      <th>100</th>\n",
       "      <td>50.000000</td>\n",
       "    </tr>\n",
       "    <tr>\n",
       "      <th>101</th>\n",
       "      <td>150.000000</td>\n",
       "    </tr>\n",
       "  </tbody>\n",
       "</table>\n",
       "<p>102 rows × 1 columns</p>\n",
       "</div>"
      ],
      "text/plain": [
       "         values\n",
       "0    114.605146\n",
       "1    113.345732\n",
       "2    101.318102\n",
       "3    118.151856\n",
       "4    109.785625\n",
       "..          ...\n",
       "97    94.620264\n",
       "98    78.414647\n",
       "99    99.096314\n",
       "100   50.000000\n",
       "101  150.000000\n",
       "\n",
       "[102 rows x 1 columns]"
      ]
     },
     "execution_count": 15,
     "metadata": {},
     "output_type": "execute_result"
    }
   ],
   "source": [
    "# 3) Create one data frame with outliner and handling the outliners by different methods-python\n",
    "\n",
    "import numpy as np\n",
    "import pandas as pd\n",
    "\n",
    "data = {'values': np.concatenate([np.random.normal(100, 10, size=100), np.array([50, 150])])}\n",
    "df = pd.DataFrame(data)\n",
    "\n",
    "# m-1\n",
    "df_no_outliers = df[df['values'].between(50, 150)]\n",
    "df\n",
    "\n",
    "# m-2\n",
    "mean_value = np.mean(df['values'])\n",
    "df.loc[(df['values'] < 50) | (df['values'] > 150), 'values'] = mean_value\n",
    "df"
   ]
  },
  {
   "cell_type": "code",
   "execution_count": 16,
   "id": "06609e9c",
   "metadata": {},
   "outputs": [
    {
     "data": {
      "image/png": "[encoded data removed]",
      "text/plain": [
       "<Figure size 640x480 with 1 Axes>"
      ]
     },
     "metadata": {},
     "output_type": "display_data"
    }
   ],
   "source": [
    "# 4) Explain central limit theorem by random data-python\n",
    "\n",
    "import numpy as np\n",
    "import matplotlib.pyplot as plt\n",
    "\n",
    "population = np.random.normal(0, 1, 10000)\n",
    "\n",
    "sample_size = 100\n",
    "\n",
    "sample_means = np.empty(10000)\n",
    "\n",
    "for i in range(10000):\n",
    "    sample = np.random.choice(population, size=sample_size, replace=True)\n",
    "    sample_means[i] = np.mean(sample)\n",
    "\n",
    "plt.hist(sample_means, bins=30)\n",
    "plt.title(\"Sample Means Distribution\")\n",
    "plt.xlabel(\"Sample Mean\")\n",
    "plt.ylabel(\"Frequency\")\n",
    "plt.show()"
   ]
  },
  {
   "cell_type": "code",
   "execution_count": 18,
   "id": "93c326f2",
   "metadata": {},
   "outputs": [
    {
     "data": {
      "image/png": "[encoded data removed]",
      "text/plain": [
       "<Figure size 640x480 with 1 Axes>"
      ]
     },
     "metadata": {},
     "output_type": "display_data"
    },
    {
     "data": {
      "image/png": "[encoded data removed]",
      "text/plain": [
       "<Figure size 640x480 with 1 Axes>"
      ]
     },
     "metadata": {},
     "output_type": "display_data"
    },
    {
     "data": {
      "image/png": "[encoded data removed]",
      "text/plain": [
       "<Figure size 640x480 with 2 Axes>"
      ]
     },
     "metadata": {},
     "output_type": "display_data"
    },
    {
     "data": {
      "text/plain": [
       "<function matplotlib.pyplot.xlabel(xlabel, fontdict=None, labelpad=None, *, loc=None, **kwargs)>"
      ]
     },
     "execution_count": 18,
     "metadata": {},
     "output_type": "execute_result"
    },
    {
     "data": {
      "image/png": "[encoded data removed]",
      "text/plain": [
       "<Figure size 640x480 with 1 Axes>"
      ]
     },
     "metadata": {},
     "output_type": "display_data"
    }
   ],
   "source": [
    "# 5) Plot the Bar plot, histogram plot, heat map, scatter plot pie chart for the given data set.-python\n",
    "\n",
    "import pandas as pd\n",
    "import matplotlib.pyplot as plt\n",
    "import seaborn as sns\n",
    "\n",
    "data = {\n",
    "    'Category': ['A', 'B', 'C', 'A', 'B', 'C', 'A', 'B', 'C'],\n",
    "    'Values': [10, 15, 12, 11, 18, 16, 14, 13, 17],\n",
    "    'Group': ['X', 'X', 'X', 'Y', 'Y', 'Y', 'Z', 'Z', 'Z']\n",
    "}\n",
    "\n",
    "df = pd.DataFrame(data)\n",
    "\n",
    "\n",
    "plt.bar(df['Category'], df['Values'])\n",
    "plt.xlabel('Category')\n",
    "plt.ylabel('Values')\n",
    "plt.title('Bar Plot')\n",
    "plt.show()\n",
    "\n",
    "plt.hist(df['Values'], bins=5)\n",
    "plt.xlabel('Values')\n",
    "plt.ylabel('Frequency')\n",
    "plt.title('Histogram Plot')\n",
    "plt.show()\n",
    "\n",
    "sns.heatmap(df.pivot_table(values='Values', index='Category', columns='Group'))\n",
    "plt.title('Heatmap')\n",
    "plt.show()\n",
    "\n",
    "plt.scatter(df['Category'], df['Values'])\n",
    "plt.xlabel"
   ]
  },
  {
   "cell_type": "code",
   "execution_count": null,
   "id": "90bccec6",
   "metadata": {},
   "outputs": [],
   "source": [
    "# 6) Differential betweeen the classification and regression-theory\n",
    "\n",
    "The main difference between Regression and Classification algorithms that Regression algorithms are used to predict the \n",
    "continuous values such as price, salary, age, etc. and Classification algorithms are used to predict/Classify the discrete \n",
    "values such as Male or Female, True or False, Spam or Not Spam, etc."
   ]
  },
  {
   "cell_type": "code",
   "execution_count": 24,
   "id": "17e6ea41",
   "metadata": {},
   "outputs": [
    {
     "name": "stdout",
     "output_type": "stream",
     "text": [
      "Standardized Data:\n",
      "[[-1.22474487 -1.22474487 -1.22474487]\n",
      " [ 0.          0.          0.        ]\n",
      " [ 1.22474487  1.22474487  1.22474487]]\n",
      "Normalized Data:\n",
      "[[0.  0.  0. ]\n",
      " [0.5 0.5 0.5]\n",
      " [1.  1.  1. ]]\n"
     ]
    }
   ],
   "source": [
    "# 7) Differential between the standardization and normalization-python\n",
    "\n",
    "import numpy as np\n",
    "from sklearn.preprocessing import StandardScaler, MinMaxScaler\n",
    "\n",
    "data = np.array([[1, 2, 3], [4, 5, 6], [7, 8, 9]])\n",
    "\n",
    "scaler = StandardScaler()\n",
    "standardized_data = scaler.fit_transform(data)\n",
    "print(\"Standardized Data:\")\n",
    "print(standardized_data)\n",
    "\n",
    "scaler = MinMaxScaler()\n",
    "normalized_data = scaler.fit_transform(data)\n",
    "print(\"Normalized Data:\")\n",
    "print(normalized_data)"
   ]
  },
  {
   "cell_type": "code",
   "execution_count": 27,
   "id": "65959302",
   "metadata": {},
   "outputs": [
    {
     "name": "stdout",
     "output_type": "stream",
     "text": [
      "1704\n",
      "1708\n",
      "1712\n",
      "1716\n",
      "1720\n",
      "1724\n",
      "1728\n",
      "1732\n",
      "1736\n",
      "1740\n",
      "1744\n",
      "1748\n",
      "1752\n",
      "1756\n",
      "1760\n",
      "1764\n",
      "1768\n",
      "1772\n",
      "1776\n",
      "1780\n",
      "1784\n",
      "1788\n",
      "1792\n",
      "1796\n",
      "1804\n",
      "1808\n",
      "1812\n",
      "1816\n",
      "1820\n",
      "1824\n",
      "1828\n",
      "1832\n",
      "1836\n",
      "1840\n",
      "1844\n",
      "1848\n",
      "1852\n",
      "1856\n",
      "1860\n",
      "1864\n",
      "1868\n",
      "1872\n",
      "1876\n",
      "1880\n",
      "1884\n",
      "1888\n",
      "1892\n",
      "1896\n",
      "1904\n",
      "1908\n",
      "1912\n",
      "1916\n",
      "1920\n",
      "1924\n",
      "1928\n",
      "1932\n",
      "1936\n",
      "1940\n",
      "1944\n",
      "1948\n",
      "1952\n",
      "1956\n",
      "1960\n",
      "1964\n",
      "1968\n",
      "1972\n",
      "1976\n",
      "1980\n",
      "1984\n",
      "Total number of leap years between 1700 and 1986: 69\n"
     ]
    }
   ],
   "source": [
    "# 8) Print the leap years between range of 1700 to 1986 give the count of leap years\n",
    "\n",
    "start_year = 1700\n",
    "end_year = 1986\n",
    "\n",
    "leap_year_count = 0\n",
    "\n",
    "for year in range(start_year, end_year + 1):\n",
    "    if (year % 4 == 0 and year % 100 != 0) or (year % 400 == 0):\n",
    "        print(year)\n",
    "        leap_year_count += 1\n",
    "\n",
    "print(\"Total number of leap years between {} and {}: {}\".format(start_year, end_year, leap_year_count))"
   ]
  },
  {
   "cell_type": "code",
   "execution_count": 28,
   "id": "065f6730",
   "metadata": {},
   "outputs": [
    {
     "name": "stdout",
     "output_type": "stream",
     "text": [
      "   Letter  ASCII value\n",
      "0       A           65\n",
      "1       B           66\n",
      "2       C           67\n",
      "3       D           68\n",
      "4       E           69\n",
      "5       F           70\n",
      "6       G           71\n",
      "7       H           72\n",
      "8       I           73\n",
      "9       J           74\n",
      "10      K           75\n",
      "11      L           76\n",
      "12      M           77\n",
      "13      N           78\n",
      "14      O           79\n",
      "15      P           80\n",
      "16      Q           81\n",
      "17      R           82\n",
      "18      S           83\n",
      "19      T           84\n",
      "20      U           85\n",
      "21      V           86\n",
      "22      W           87\n",
      "23      X           88\n",
      "24      Y           89\n",
      "25      Z           90\n"
     ]
    }
   ],
   "source": [
    "# 9) Find the ASCII value of capital A TO Z . Make the letters and their ASCII value in a Data Frame-python.\n",
    "\n",
    "import pandas as pd\n",
    "\n",
    "letters_ascii = {chr(i): i for i in range(ord('A'), ord('Z')+1)}\n",
    "\n",
    "df = pd.DataFrame(list(letters_ascii.items()), columns=['Letter', 'ASCII value'])\n",
    "print(df)"
   ]
  },
  {
   "cell_type": "code",
   "execution_count": 29,
   "id": "4f75bdaa",
   "metadata": {},
   "outputs": [
    {
     "name": "stdout",
     "output_type": "stream",
     "text": [
      "0\n",
      "1\n",
      "1\n",
      "2\n",
      "3\n",
      "5\n",
      "8\n",
      "13\n",
      "21\n",
      "34\n"
     ]
    }
   ],
   "source": [
    "# 10) Print the Fibonacci series using for loop\n",
    "\n",
    "def fibonacci(n):\n",
    "    a, b = 0, 1\n",
    "    for i in range(n):\n",
    "        print(a)\n",
    "        a, b = b, a + b\n",
    "\n",
    "fibonacci(10)"
   ]
  },
  {
   "cell_type": "code",
   "execution_count": null,
   "id": "c64d6ba1",
   "metadata": {},
   "outputs": [],
   "source": []
  }
 ],
 "metadata": {
  "kernelspec": {
   "display_name": "Python 3 (ipykernel)",
   "language": "python",
   "name": "python3"
  },
  "language_info": {
   "codemirror_mode": {
    "name": "ipython",
    "version": 3
   },
   "file_extension": ".py",
   "mimetype": "text/x-python",
   "name": "python",
   "nbconvert_exporter": "python",
   "pygments_lexer": "ipython3",
   "version": "3.11.5"
  }
 },
 "nbformat": 4,
 "nbformat_minor": 5
}
